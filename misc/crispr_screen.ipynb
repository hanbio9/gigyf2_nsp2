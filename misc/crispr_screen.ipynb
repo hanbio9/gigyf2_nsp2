{
 "cells": [
  {
   "cell_type": "code",
   "execution_count": 1,
   "id": "d2a30f72",
   "metadata": {},
   "outputs": [],
   "source": [
    "import pandas as pd"
   ]
  },
  {
   "cell_type": "code",
   "execution_count": 2,
   "id": "00e0590d",
   "metadata": {},
   "outputs": [],
   "source": [
    "def wapre(file):\n",
    "    d=pd.read_csv(file)\n",
    "    d=d[[\"id\",\"pos|lfc\",\"pos|score\"]]\n",
    "    d.columns=[\"gene\",\"lfc\",\"score\"]\n",
    "    d[\"reference\"]=\"Wang_2021\"\n",
    "    d=d[d.score<10**(-4)]\n",
    "    return d[d.lfc>0], d[d.lfc<0]\n",
    "wasars2=wapre(\"wang_2021_sars2.csv\")\n",
    "wa229=wapre(\"wang_2021_229e.csv\")\n",
    "waoc=wapre(\"wang_2021_oc43.csv\")"
   ]
  },
  {
   "cell_type": "code",
   "execution_count": 3,
   "id": "3ee8cc27",
   "metadata": {},
   "outputs": [],
   "source": [
    "def schpre(sheet):\n",
    "    d=pd.read_excel(\"schneider_2021_sars2_oc43_nl63_229e.xlsx\",engine='openpyxl',sheet_name=sheet)\n",
    "    d=d[[\"Gene\",\"z_score\",\"fdr\"]]\n",
    "    d.columns=[\"gene\",\"score\",\"fdr\"]\n",
    "    d[\"reference\"]=\"Schneider_2021\"\n",
    "    d=d[d.fdr<0.05]\n",
    "    return d[d.score>0],d[d.score<0]\n",
    "schsars37=schpre(\"Table_S1A\")\n",
    "schsars33=schpre(\"Table_S1B\")\n",
    "schoc=schpre(\"Table_S1C\")\n",
    "schnl=schpre(\"Table_S1D\")\n",
    "sch229=schpre(\"Table_S1E\")"
   ]
  },
  {
   "cell_type": "code",
   "execution_count": 4,
   "id": "a7d35740",
   "metadata": {},
   "outputs": [],
   "source": [
    "def hofpre(sheet):\n",
    "    d=pd.read_excel(\"hoffman_2021_sars2_oc43_nl63_229e.xlsx\",\n",
    "                    engine='openpyxl',sheet_name=sheet,skiprows=1)\n",
    "    d=d[[\"Gene\",\"z\",\"fdr\"]]\n",
    "    d.columns=[\"gene\",\"score\",\"fdr\"]\n",
    "    d[\"reference\"]=\"Hoffman_2021\"\n",
    "    d=d[d.fdr<0.05]\n",
    "    return d[d.score>0],d[d.score<0]\n",
    "hofsars37=hofpre(\"Table_S1E\")\n",
    "hofsars33=hofpre(\"Table_S1C\")\n",
    "hofoc=hofpre(\"Table_S1B\")\n",
    "hofnl=hofpre(\"Table_S1A\")\n",
    "hof229=hofpre(\"Table_S1D\")"
   ]
  },
  {
   "cell_type": "code",
   "execution_count": 5,
   "id": "1f9cc052",
   "metadata": {},
   "outputs": [],
   "source": [
    "def ispre(file):\n",
    "    d=pd.read_excel(file,engine='openpyxl')\n",
    "    d=d[[\"id\",\"pos.score_all\",\"neg.score_all\"]]\n",
    "    d.columns=[\"gene\",\"posscore\",\"negscore\"]\n",
    "    d[\"reference\"]=\"Israeli_2022\"\n",
    "    return d[d.posscore<10**(-4)],d[d.gene.isin([\"MMP23B\",\"LARS2\",\"HUS1\",\"STX4\",\"RER1\"])]\n",
    "issars=ispre(\"israeli_2022_sars2.xlsx\")"
   ]
  },
  {
   "cell_type": "code",
   "execution_count": 6,
   "id": "6a20b121",
   "metadata": {},
   "outputs": [],
   "source": [
    "def kapre(file):\n",
    "    d=pd.read_table(file)\n",
    "    d=d[[\"id\",\"pos|fdr\",\"neg|fdr\"]]\n",
    "    d.columns=[\"gene\",\"posfdr\",\"negfdr\"]\n",
    "    d[\"reference\"]=\"Kain_2022\"\n",
    "    return d[d.negfdr<0.05], d[(d.posfdr<0.05)|(d.gene.isin([\"APOL6\",\"DAXX\",\"HERC5\"]))]\n",
    "kasars=kapre(\"kain_2022_sars2.txt\")"
   ]
  },
  {
   "cell_type": "code",
   "execution_count": 7,
   "id": "dac37318",
   "metadata": {},
   "outputs": [],
   "source": [
    "\n",
    "def flpre(file,v):\n",
    "    d=pd.read_table(file)\n",
    "    z, fdr = \"exp_%s_z\"%v,\"exp_%s_fdr\"%v\n",
    "    d=d[[\"Gene\",z, fdr]]\n",
    "    d.columns=[\"gene\",\"z\",\"fdr\"]\n",
    "    d[\"reference\"]=\"Flynn_2021_chirp\"\n",
    "    d=d[d.fdr<10**(-4)]\n",
    "    return d[d.z>0], d[d.z<0]\n",
    "def flmito(file,v):\n",
    "    d=pd.read_table(file)\n",
    "    z, fdr = \"mito_%s_z\"%v, \"mito_%s_fdr\"%v\n",
    "    d=d[[\"Gene\",z, fdr]]\n",
    "    d.columns=[\"gene\",\"z\",\"fdr\"]\n",
    "    d[\"reference\"]=\"Flynn_2021_mito\"\n",
    "    d=d[d.fdr<10**(-4)]\n",
    "    return d[d.z>0], d[d.z<0]\n",
    "flsars2=flpre(\"flynn_2021_chirpms.csv\",\"sars2\")\n",
    "flmers=flpre(\"flynn_2021_chirpms.csv\",\"mers\")\n",
    "flhku=flpre(\"flynn_2021_chirpms.csv\",\"hku5\")\n",
    "flmitosars2=flmito(\"flynn_2021_mitochondria.csv\",\"sars2\")\n",
    "flmitomers=flmito(\"flynn_2021_mitochondria.csv\",\"mers\")\n",
    "flmitohku=flmito(\"flynn_2021_mitochondria.csv\",\"hku5\")"
   ]
  },
  {
   "cell_type": "code",
   "execution_count": 19,
   "id": "22e47496",
   "metadata": {},
   "outputs": [
    {
     "name": "stderr",
     "output_type": "stream",
     "text": [
      "/rna/han/conda/envs/py11/lib/python3.11/site-packages/openpyxl/worksheet/_read_only.py:81: UserWarning: Unknown extension is not supported and will be removed\n",
      "  for idx, row in parser.parse():\n"
     ]
    }
   ],
   "source": [
    "def prezhu(file):\n",
    "    d=pd.read_excel(file,engine='openpyxl')\n",
    "    d=d[[\"id\",\"pos|fdr\"]]\n",
    "    d.columns=[\"gene\",\"fdr\"]\n",
    "    d[\"reference\"]=\"Zhu_2021\"\n",
    "    return d[d.fdr<0.05],d.iloc[:0,:]\n",
    "zhusars2=prezhu(\"zhu_2021_sars2.xlsx\")"
   ]
  },
  {
   "cell_type": "code",
   "execution_count": 321,
   "id": "78dfe7d7",
   "metadata": {},
   "outputs": [],
   "source": [
    "def preda(file,moi):\n",
    "    d=pd.read_excel(file,engine=\"openpyxl\")\n",
    "    d=d[[\"gene_id\",\"Rank_MOI%i\"%moi,\"fdr_MOI%i\"%moi]]\n",
    "    d.columns=[\"gene\",\"rank\",\"fdr\"]\n",
    "    d=d[d[\"rank\"]<=50]\n",
    "    d=d.sort_values(\"fdr\")\n",
    "    d=d.iloc[:50,[0,2]]\n",
    "    d[\"reference\"]=\"Daniloski_2020\"\n",
    "    return d,d.iloc[:0,:]\n",
    "dasars2moi1=preda(\"daniloski_2020_sars2.xlsx\",1)\n",
    "dasars2moi3=preda(\"daniloski_2020_sars2.xlsx\",3)"
   ]
  },
  {
   "cell_type": "code",
   "execution_count": 23,
   "id": "13665acf",
   "metadata": {},
   "outputs": [],
   "source": [
    "def prewei(file,virus):\n",
    "    d=pd.read_excel(file,engine=\"openpyxl\")\n",
    "    d=d[[\"Gene Symbol\",virus]]\n",
    "    d.columns=[\"gene\",\"z\"]\n",
    "    d=d.sort_values(\"z\",ascending=False)\n",
    "    d[\"reference\"]=\"Wei_2020\"\n",
    "    return d[d.z>5],d[d.z<-5]\n",
    "weisars2=prewei(\"wei_2020_sars2_mers.xlsx\",\"SARS-CoV-2\")\n",
    "weimers=prewei(\"wei_2020_sars2_mers.xlsx\",\"MERS-CoV\")"
   ]
  },
  {
   "cell_type": "code",
   "execution_count": 214,
   "id": "4fe26ade",
   "metadata": {},
   "outputs": [],
   "source": [
    "def bilof(file):\n",
    "    lof=pd.read_excel(file,sheet_name=\"Supplementary Table 1\",engine=\"openpyxl\")\n",
    "    lof=lof[[\"id\",\"pos|lfc (median of all guides and replicates)\",\"pos|fdr\"]]\n",
    "    lof.columns=[\"gene\",\"lfc\",\"fdr\"]\n",
    "    lof[\"reference\"]=\"Biering_2022_ko\"\n",
    "    return lof[lof.fdr<0.05],lof.iloc[:0,:]\n",
    "def bigof(file):\n",
    "    de=pd.read_excel(file,sheet_name=\"Supplementary Table 2\",engine=\"openpyxl\")\n",
    "    de=de[[\"id\",\"neg|lfc (median of all guides and replicates)\",\"neg|fdr\"]]\n",
    "    de.columns=[\"gene\",\"lfc\",\"fdr\"]\n",
    "    de[\"reference\"]=\"Biering_2022_activation\"\n",
    "    en=pd.read_excel(file,sheet_name=\"Supplementary Table 3\",engine=\"openpyxl\")\n",
    "    en=en[[\"id\",\"pos|lfc\",\"pos|fdr\"]]\n",
    "    en.columns=[\"gene\",\"lfc\",\"fdr\"]\n",
    "    en[\"reference\"]=\"Biering_2022_activation\"\n",
    "    return de[(de.fdr<0.05)&(de.lfc<0)], en[(en.fdr<0.05)&(en.lfc>0)]\n",
    "bilof=bilof(\"biering_2022_sars2.xlsx\")\n",
    "bigof=bigof(\"biering_2022_sars2.xlsx\")"
   ]
  },
  {
   "cell_type": "code",
   "execution_count": 215,
   "id": "6dd88c0d",
   "metadata": {},
   "outputs": [],
   "source": [
    "def reko():\n",
    "    file=\"rebendenne_2022_ko.xlsx\"\n",
    "    res=pd.DataFrame()\n",
    "    sen=pd.DataFrame()\n",
    "    for i in range(2,6):\n",
    "        d=pd.read_excel(file,sheet_name=i,engine=\"openpyxl\")\n",
    "        d=d.iloc[:,[0,2]]\n",
    "        d.columns=[\"gene\",\"z\"]\n",
    "        res=pd.concat([res,d[d.z>3]])\n",
    "        sen=pd.concat([sen,d[d.z<-3]])\n",
    "    res[\"reference\"]=\"Rebendenne_2022_ko\"\n",
    "    sen[\"reference\"]=\"Rebendenne_2022_ko\"\n",
    "    return res.drop_duplicates(\"gene\"),sen.drop_duplicates(\"gene\")\n",
    "def reac():\n",
    "    file=\"rebendenne_2022_activation.xlsx\"\n",
    "    res=pd.DataFrame()\n",
    "    sen=pd.DataFrame()\n",
    "    for i in range(1,5):\n",
    "        d=pd.read_excel(file,sheet_name=i,engine=\"openpyxl\")\n",
    "        d=d.iloc[:,[0,2]]\n",
    "        d.columns=[\"gene\",\"z\"]\n",
    "        res=pd.concat([res,d[d.z<-3]])\n",
    "        sen=pd.concat([sen,d[d.z>3]])\n",
    "    res[\"reference\"]=\"Rebendenne_2022_activation\"\n",
    "    sen[\"reference\"]=\"Rebendenne_2022_activation\"\n",
    "    return res.drop_duplicates(\"gene\"),sen.drop_duplicates(\"gene\")\n",
    "reko=reko()\n",
    "reac=reac()"
   ]
  },
  {
   "cell_type": "code",
   "execution_count": 284,
   "id": "e592899a",
   "metadata": {},
   "outputs": [],
   "source": [
    "def grosars2():\n",
    "    d=pd.read_excel(\"grodzki_2022_sars2_oc43.xlsx\",sheet_name=16,engine=\"openpyxl\")\n",
    "    d=d.iloc[:,[5,1]]\n",
    "    d.columns=[\"gene\",\"x\"]\n",
    "    d=d[~d.gene.isna()]\n",
    "    d[\"reference\"]=\"Grodzki_2022\"\n",
    "    return d,d.iloc[:0,:]\n",
    "def grooc():\n",
    "    d=pd.read_excel(\"grodzki_2022_oc43.xlsx\",engine=\"openpyxl\")\n",
    "    d=d.iloc[:,:3]\n",
    "    d.columns=[\"gene\",\"rank\",\"lfc\"]\n",
    "    d=d[(d.gene.apply(lambda x: \"multiKO\" not in x))&(~d.lfc.isna())]\n",
    "    d[\"reference\"]=\"Grodzki_2022\"\n",
    "    return d,d.iloc[:0,:]\n",
    "grosars2=grosars2()\n",
    "grooc43=grooc()"
   ]
  },
  {
   "cell_type": "code",
   "execution_count": 303,
   "id": "bb9df366",
   "metadata": {},
   "outputs": [],
   "source": [
    "def bapre(file):\n",
    "    d=pd.read_csv(file)\n",
    "    d=d[[\"gene\",\"log2FC\",\"p_value_neg\"]]\n",
    "    d.columns=[\"gene\",\"lfc\",\"p\"]\n",
    "    d=d[d.gene.isin([\"TMEM106B\",\"PIK3C3\",\"TMEM41B\",\"EXT1\",\"OSBPL9\",\"PTDSS1\",\"CCZ1B\"])]\n",
    "    d[\"reference\"]=\"Baggen_2021\"\n",
    "    return d,d.iloc[:0,:]\n",
    "basars2=bapre(\"baggen_2021_sars2.csv\")"
   ]
  },
  {
   "cell_type": "code",
   "execution_count": 322,
   "id": "035a2a67",
   "metadata": {},
   "outputs": [],
   "source": [
    "sars2=[basars2,bigof,bilof,dasars2moi1,dasars2moi3,flsars2,flmitosars2,grosars2,hofsars37,hofsars33,\n",
    "       issars,kasars,reac,reko,schsars37,schsars33,wasars2,weisars2,zhusars2]\n",
    "mers=[flmers,flmitomers,weimers]\n",
    "oc43=[grooc43,hofoc,schoc,waoc]\n",
    "hku=[flhku,flmitohku]\n",
    "nl63=[hofnl,schnl]\n",
    "e229=[hof229,sch229,wa229]"
   ]
  },
  {
   "cell_type": "code",
   "execution_count": 325,
   "id": "b2bdd7de",
   "metadata": {},
   "outputs": [],
   "source": [
    "def concat(virus):\n",
    "    pro=pd.DataFrame()\n",
    "    anti=pd.DataFrame()\n",
    "    for data in virus:\n",
    "        pro=pd.concat([pro,data[0][[\"gene\",\"reference\"]]])\n",
    "        anti=pd.concat([anti,data[1][[\"gene\",\"reference\"]]])\n",
    "    pro=pro.drop_duplicates([\"gene\",\"reference\"])\n",
    "    anti=anti.drop_duplicates([\"gene\",\"reference\"])\n",
    "    pro=pro.groupby(\"gene\").agg(\" | \".join)\n",
    "    anti=anti.groupby(\"gene\").agg(\" | \".join)\n",
    "    merge=pd.merge(pro,anti,left_index=True,right_index=True,how=\"outer\")\n",
    "    merge=merge.reset_index()\n",
    "    return merge"
   ]
  },
  {
   "cell_type": "code",
   "execution_count": 326,
   "id": "7f8765df",
   "metadata": {},
   "outputs": [],
   "source": [
    "from functools import reduce\n",
    "dfs = [concat(virus) for virus in [sars2,mers,oc43,hku,nl63,e229]]\n",
    "crispr = reduce(lambda x,y: pd.merge(x,y,on=\"gene\",how=\"outer\"),dfs)\n",
    "crispr.columns = [\"gene\",\"sars2_proviral\",\"sars2_antiviral\",\"mers_proviral\",\"mers_antiviral\",\n",
    "                  \"oc43_proviral\",\"oc43_antiviral\",\"hku5_proviral\",\"hku5_antiviral\",\n",
    "                  \"nl63_proviral\",\"nl63_antiviral\",\"229e_proviral\",\"229e_antiviral\"]\n",
    "crispr.to_csv(\"coronavirus_crispr_screen.csv\",index=False)"
   ]
  }
 ],
 "metadata": {
  "kernelspec": {
   "display_name": "Python 3",
   "language": "python",
   "name": "python3"
  },
  "language_info": {
   "codemirror_mode": {
    "name": "ipython",
    "version": 3
   },
   "file_extension": ".py",
   "mimetype": "text/x-python",
   "name": "python",
   "nbconvert_exporter": "python",
   "pygments_lexer": "ipython3",
   "version": "3.11.3"
  }
 },
 "nbformat": 4,
 "nbformat_minor": 5
}
