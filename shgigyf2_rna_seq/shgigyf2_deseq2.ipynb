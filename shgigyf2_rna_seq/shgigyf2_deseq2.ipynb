{
 "cells": [
  {
   "cell_type": "code",
   "execution_count": 10,
   "metadata": {
    "vscode": {
     "languageId": "r"
    }
   },
   "outputs": [],
   "source": [
    "library(\"DESeq2\")\n",
    "library(dplyr)\n",
    "library(stringr)\n",
    "library(tidyr)\n",
    "library(ggplot2)"
   ]
  },
  {
   "cell_type": "code",
   "execution_count": 15,
   "metadata": {
    "vscode": {
     "languageId": "r"
    }
   },
   "outputs": [
    {
     "name": "stderr",
     "output_type": "stream",
     "text": [
      "converting counts to integer mode\n",
      "\n",
      "estimating size factors\n",
      "\n",
      "estimating dispersions\n",
      "\n",
      "gene-wise dispersion estimates\n",
      "\n",
      "mean-dispersion relationship\n",
      "\n",
      "final dispersion estimates\n",
      "\n",
      "fitting model and testing\n",
      "\n",
      "Warning message in write.csv(counts(dds, normalized = TRUE), \"~/gigyf2_nsp2/exp_data/gigyf2_kd_rnaseq/processed/normcounts.csv\", :\n",
      "“attempt to set 'col.names' ignored”\n"
     ]
    }
   ],
   "source": [
    "p=0.05\n",
    "fc=1\n",
    "data = read.csv(\"~/gigyf2_nsp2/exp_data/gigyf2_kd_rnaseq/results/featurecount.csv\", row.names=1)\n",
    "coldata=data.frame(\"KD\"=as.factor(c(rep(\"shGIGYF2\", 2), rep(\"shNC\", 2))), \"Replicate\"=as.factor(rep(c(1, 2), 2)))\n",
    "row.names(coldata) = colnames(data)\n",
    "dds=DESeqDataSetFromMatrix(countData = round(data), colData = coldata, design = ~ KD)\n",
    "keep <- rowSums(counts(dds) >= 10) >= 2\n",
    "dds <- dds[keep,]\n",
    "dds <- DESeq(dds, betaPrior=FALSE)\n",
    "Res<- results(dds, contrast=c(\"KD\",\"shNC\",\"shGIGYF2\"), pAdjustMethod=\"fdr\")\n",
    "write.csv(data.frame(Res), \"~/gigyf2_nsp2/exp_data/gigyf2_kd_rnaseq/processed/res.csv\")\n",
    "write.csv(counts(dds, normalized=TRUE), \"~/gigyf2_nsp2/exp_data/gigyf2_kd_rnaseq/processed/normcounts.csv\",quote=F,col.names = T,row.names = T)"
   ]
  }
 ],
 "metadata": {
  "kernelspec": {
   "display_name": "R",
   "language": "R",
   "name": "ir"
  },
  "language_info": {
   "codemirror_mode": "r",
   "file_extension": ".r",
   "mimetype": "text/x-r-source",
   "name": "R",
   "pygments_lexer": "r",
   "version": "4.2.3"
  },
  "orig_nbformat": 4
 },
 "nbformat": 4,
 "nbformat_minor": 2
}
